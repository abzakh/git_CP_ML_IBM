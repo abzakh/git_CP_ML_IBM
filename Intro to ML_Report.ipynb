{
    "cells": [
        {
            "cell_type": "markdown",
            "metadata": {},
            "source": "# This notebook is for the Course Project of IBM Introduction to Machine Learning Specialization"
        },
        {
            "cell_type": "code",
            "execution_count": 3,
            "metadata": {},
            "outputs": [],
            "source": "#importing necessary libraries\nimport seaborn as sns\nimport matplotlib.pyplot as plt\nimport numpy as np\nsns.set(rc={'figure.figsize':(11.7,8.27)})\nimport statsmodels.api as sm"
        },
        {
            "cell_type": "markdown",
            "metadata": {},
            "source": "## *First Ask*\n\n\n### Brief description of the dataset and a summary of its attributes\n\nWe will be working with a (transportation vehicelssales dataset for a variety of products, the dataset captures the quantities that were ordered, prices, dates of purchases, addresses to where those produtcs are shipped and name of the people who ordered the products. The following is a description of each column:\n\n* **ordernumber**: unique id for each order that was made\n* **quantityordered**: the quantity of products in each order\n* **priceeach**: the price of each product in the order\n* **orderlinenumber**: corresponds to the department it was ordered from\n* **sales**: the revenues from the order\n* **orderdate**: mm/dd/yyyy hh:mm\n* **status**: status of the shipment\n* **qtr_id**: the quarter in which the order was placed\n* **month_id**: the month in which the order was placed\n* **year_id**: the year in which the order was placed\n* **productline**: type of product that was ordered (cars, motorcycles, trucks and buses...etc)\n* **MSRP**: The list price, also known as the manufacturer's suggested retail price, or the recommended retail price, or the suggested retail price of a product is the price at which the manufacturer recommends that the retailer sell the product.\n* **productcode**: code of the product that was ordered\n* **customername**: name of the company that ordered the product\n* **phone**: phone number of the company that ordered the product\n* **addressline1**: the address to which the order will be shipped to\n* **addressline2**: the address to which the order will be shipped to\n* **city**:the city to which the order will be shipped to\n* **state**: the state to which the order will be shipped to\n* **postalcode**: the postalcode to which the order will be shipped to\n* **country**: the country to which the order will be shipped to\n* **territory**: the territory to which the order will be shipped to\n* **contactlastname**: Last name of the person who made the order\n* **contactfirstname**: First name of the person who made the order\n* **dealsize**: Size of the deal"
        },
        {
            "cell_type": "code",
            "execution_count": 8,
            "metadata": {},
            "outputs": [
                {
                    "data": {
                        "text/html": "<div>\n<style scoped>\n    .dataframe tbody tr th:only-of-type {\n        vertical-align: middle;\n    }\n\n    .dataframe tbody tr th {\n        vertical-align: top;\n    }\n\n    .dataframe thead th {\n        text-align: right;\n    }\n</style>\n<table border=\"1\" class=\"dataframe\">\n  <thead>\n    <tr style=\"text-align: right;\">\n      <th></th>\n      <th>ORDERNUMBER</th>\n      <th>QUANTITYORDERED</th>\n      <th>PRICEEACH</th>\n      <th>ORDERLINENUMBER</th>\n      <th>SALES</th>\n      <th>ORDERDATE</th>\n      <th>STATUS</th>\n      <th>QTR_ID</th>\n      <th>MONTH_ID</th>\n      <th>YEAR_ID</th>\n      <th>...</th>\n      <th>ADDRESSLINE1</th>\n      <th>ADDRESSLINE2</th>\n      <th>CITY</th>\n      <th>STATE</th>\n      <th>POSTALCODE</th>\n      <th>COUNTRY</th>\n      <th>TERRITORY</th>\n      <th>CONTACTLASTNAME</th>\n      <th>CONTACTFIRSTNAME</th>\n      <th>DEALSIZE</th>\n    </tr>\n  </thead>\n  <tbody>\n    <tr>\n      <th>0</th>\n      <td>10107</td>\n      <td>30</td>\n      <td>95.70</td>\n      <td>2</td>\n      <td>2871.00</td>\n      <td>2/24/2003 0:00</td>\n      <td>Shipped</td>\n      <td>1</td>\n      <td>2</td>\n      <td>2003</td>\n      <td>...</td>\n      <td>897 Long Airport Avenue</td>\n      <td>NaN</td>\n      <td>NYC</td>\n      <td>NY</td>\n      <td>10022</td>\n      <td>USA</td>\n      <td>NaN</td>\n      <td>Yu</td>\n      <td>Kwai</td>\n      <td>Small</td>\n    </tr>\n    <tr>\n      <th>1</th>\n      <td>10121</td>\n      <td>34</td>\n      <td>81.35</td>\n      <td>5</td>\n      <td>2765.90</td>\n      <td>5/7/2003 0:00</td>\n      <td>Shipped</td>\n      <td>2</td>\n      <td>5</td>\n      <td>2003</td>\n      <td>...</td>\n      <td>59 rue de l'Abbaye</td>\n      <td>NaN</td>\n      <td>Reims</td>\n      <td>NaN</td>\n      <td>51100</td>\n      <td>France</td>\n      <td>EMEA</td>\n      <td>Henriot</td>\n      <td>Paul</td>\n      <td>Small</td>\n    </tr>\n    <tr>\n      <th>2</th>\n      <td>10134</td>\n      <td>41</td>\n      <td>94.74</td>\n      <td>2</td>\n      <td>3884.34</td>\n      <td>7/1/2003 0:00</td>\n      <td>Shipped</td>\n      <td>3</td>\n      <td>7</td>\n      <td>2003</td>\n      <td>...</td>\n      <td>27 rue du Colonel Pierre Avia</td>\n      <td>NaN</td>\n      <td>Paris</td>\n      <td>NaN</td>\n      <td>75508</td>\n      <td>France</td>\n      <td>EMEA</td>\n      <td>Da Cunha</td>\n      <td>Daniel</td>\n      <td>Medium</td>\n    </tr>\n    <tr>\n      <th>3</th>\n      <td>10145</td>\n      <td>45</td>\n      <td>83.26</td>\n      <td>6</td>\n      <td>3746.70</td>\n      <td>8/25/2003 0:00</td>\n      <td>Shipped</td>\n      <td>3</td>\n      <td>8</td>\n      <td>2003</td>\n      <td>...</td>\n      <td>78934 Hillside Dr.</td>\n      <td>NaN</td>\n      <td>Pasadena</td>\n      <td>CA</td>\n      <td>90003</td>\n      <td>USA</td>\n      <td>NaN</td>\n      <td>Young</td>\n      <td>Julie</td>\n      <td>Medium</td>\n    </tr>\n    <tr>\n      <th>4</th>\n      <td>10159</td>\n      <td>49</td>\n      <td>100.00</td>\n      <td>14</td>\n      <td>5205.27</td>\n      <td>10/10/2003 0:00</td>\n      <td>Shipped</td>\n      <td>4</td>\n      <td>10</td>\n      <td>2003</td>\n      <td>...</td>\n      <td>7734 Strong St.</td>\n      <td>NaN</td>\n      <td>San Francisco</td>\n      <td>CA</td>\n      <td>NaN</td>\n      <td>USA</td>\n      <td>NaN</td>\n      <td>Brown</td>\n      <td>Julie</td>\n      <td>Medium</td>\n    </tr>\n  </tbody>\n</table>\n<p>5 rows \u00d7 25 columns</p>\n</div>",
                        "text/plain": "   ORDERNUMBER  QUANTITYORDERED  PRICEEACH  ORDERLINENUMBER    SALES  \\\n0        10107               30      95.70                2  2871.00   \n1        10121               34      81.35                5  2765.90   \n2        10134               41      94.74                2  3884.34   \n3        10145               45      83.26                6  3746.70   \n4        10159               49     100.00               14  5205.27   \n\n         ORDERDATE   STATUS  QTR_ID  MONTH_ID  YEAR_ID  ...  \\\n0   2/24/2003 0:00  Shipped       1         2     2003  ...   \n1    5/7/2003 0:00  Shipped       2         5     2003  ...   \n2    7/1/2003 0:00  Shipped       3         7     2003  ...   \n3   8/25/2003 0:00  Shipped       3         8     2003  ...   \n4  10/10/2003 0:00  Shipped       4        10     2003  ...   \n\n                    ADDRESSLINE1  ADDRESSLINE2           CITY STATE  \\\n0        897 Long Airport Avenue           NaN            NYC    NY   \n1             59 rue de l'Abbaye           NaN          Reims   NaN   \n2  27 rue du Colonel Pierre Avia           NaN          Paris   NaN   \n3             78934 Hillside Dr.           NaN       Pasadena    CA   \n4                7734 Strong St.           NaN  San Francisco    CA   \n\n  POSTALCODE COUNTRY TERRITORY CONTACTLASTNAME CONTACTFIRSTNAME DEALSIZE  \n0      10022     USA       NaN              Yu             Kwai    Small  \n1      51100  France      EMEA         Henriot             Paul    Small  \n2      75508  France      EMEA        Da Cunha           Daniel   Medium  \n3      90003     USA       NaN           Young            Julie   Medium  \n4        NaN     USA       NaN           Brown            Julie   Medium  \n\n[5 rows x 25 columns]"
                    },
                    "execution_count": 8,
                    "metadata": {},
                    "output_type": "execute_result"
                }
            ],
            "source": "# The code was removed by Watson Studio for sharing."
        },
        {
            "cell_type": "markdown",
            "metadata": {},
            "source": "## *Second Ask*\n\n\n### Initial plan for data exploration\n\nThe plan for the EDA will be straighforward, it will include multiple graphs (boxplots, pairblots, histograms, barplots,etc..) of the most importnat variables, checking for any anomalies and any strong patterns, which will ultimately help in building hypotheses about the dataset."
        },
        {
            "cell_type": "markdown",
            "metadata": {},
            "source": "#### Fig1: Sales in each year by Product line"
        },
        {
            "cell_type": "code",
            "execution_count": null,
            "metadata": {},
            "outputs": [],
            "source": "ax = sns.boxplot(x=\"YEAR_ID\", y=\"SALES\",hue='PRODUCTLINE', data=df, palette='Set3')"
        },
        {
            "cell_type": "markdown",
            "metadata": {},
            "source": "#### Fig2: Quantities ordered in each year by Product line"
        },
        {
            "cell_type": "code",
            "execution_count": null,
            "metadata": {},
            "outputs": [],
            "source": "ax = sns.boxplot(x=\"YEAR_ID\", y=\"QUANTITYORDERED\",hue='PRODUCTLINE', data=df, palette='Set3')"
        },
        {
            "cell_type": "markdown",
            "metadata": {},
            "source": "#### Fig3: Yearly Sales (aggregates)"
        },
        {
            "cell_type": "code",
            "execution_count": null,
            "metadata": {
                "scrolled": false
            },
            "outputs": [],
            "source": "df_1 = df.groupby(['PRODUCTLINE','QTR_ID','YEAR_ID','DEALSIZE'])['SALES','QUANTITYORDERED'].sum()\ndf_1 = df_1.reset_index()\nsns.barplot(x='YEAR_ID',y='SALES',data=df_1)"
        },
        {
            "cell_type": "markdown",
            "metadata": {},
            "source": "#### Fig4: Yearly Sales (aggregate) by product line"
        },
        {
            "cell_type": "code",
            "execution_count": null,
            "metadata": {},
            "outputs": [],
            "source": "sns.barplot(x='YEAR_ID',y='SALES',hue='PRODUCTLINE',data=df_1)"
        },
        {
            "cell_type": "markdown",
            "metadata": {},
            "source": "#### Fig5: Yearly sales (aggregated over quarters)"
        },
        {
            "cell_type": "code",
            "execution_count": null,
            "metadata": {},
            "outputs": [],
            "source": "sns.barplot(x='YEAR_ID',y='SALES',hue='QTR_ID',data=df_1)"
        },
        {
            "cell_type": "markdown",
            "metadata": {},
            "source": "#### Fig6: Yearly sales (aggregate) by deal size"
        },
        {
            "cell_type": "code",
            "execution_count": null,
            "metadata": {},
            "outputs": [],
            "source": "sns.barplot(x='YEAR_ID',y='SALES',hue='DEALSIZE',data=df_1)"
        },
        {
            "cell_type": "markdown",
            "metadata": {},
            "source": "#### Fig7: Yearly quantities ordered (aggregate) by deal size"
        },
        {
            "cell_type": "code",
            "execution_count": null,
            "metadata": {
                "scrolled": false
            },
            "outputs": [],
            "source": "sns.barplot(x='YEAR_ID',y='QUANTITYORDERED',hue='DEALSIZE',data=df_1)"
        },
        {
            "cell_type": "markdown",
            "metadata": {},
            "source": "#### Fig8: Distrubtion of sales"
        },
        {
            "cell_type": "code",
            "execution_count": null,
            "metadata": {
                "scrolled": false
            },
            "outputs": [],
            "source": "sns.distplot(df['SALES'])"
        },
        {
            "cell_type": "markdown",
            "metadata": {},
            "source": "#### Fig9: Boxplots of sales by territory and product line"
        },
        {
            "cell_type": "code",
            "execution_count": null,
            "metadata": {
                "scrolled": false
            },
            "outputs": [],
            "source": "ax = sns.boxplot(x=\"PRODUCTLINE\", y=\"SALES\", hue=\"TERRITORY\", data=df, palette=\"Set3\")"
        },
        {
            "cell_type": "markdown",
            "metadata": {},
            "source": "#### Fig10:  Sales (aggregate) by territory and dealsize"
        },
        {
            "cell_type": "code",
            "execution_count": null,
            "metadata": {},
            "outputs": [],
            "source": "sns.barplot(x=\"DEALSIZE\", y=\"SALES\", hue=\"TERRITORY\", data=df, palette=\"Set3\")"
        },
        {
            "cell_type": "markdown",
            "metadata": {},
            "source": "#### Fig11:  Average yearly sales "
        },
        {
            "cell_type": "code",
            "execution_count": null,
            "metadata": {},
            "outputs": [],
            "source": "df_2 = df.groupby(['PRODUCTLINE','QTR_ID','YEAR_ID'])['SALES','QUANTITYORDERED'].mean()\ndf_2 = df_2.reset_index()\nsns.barplot(x='YEAR_ID',y='SALES',data=df_2)"
        },
        {
            "cell_type": "markdown",
            "metadata": {},
            "source": "#### Fig12:  Average yearly sales by product line"
        },
        {
            "cell_type": "code",
            "execution_count": null,
            "metadata": {},
            "outputs": [],
            "source": "sns.barplot(x='YEAR_ID',y='SALES',hue='PRODUCTLINE',data=df_2)"
        },
        {
            "cell_type": "markdown",
            "metadata": {},
            "source": "#### Fig13:  Average quarterly sales in each year"
        },
        {
            "cell_type": "code",
            "execution_count": null,
            "metadata": {
                "scrolled": false
            },
            "outputs": [],
            "source": "sns.barplot(x='YEAR_ID',y='SALES',hue='QTR_ID',data=df_2)"
        },
        {
            "cell_type": "markdown",
            "metadata": {},
            "source": "#### Fig11:  Quarterly sales in each year by deal size"
        },
        {
            "cell_type": "code",
            "execution_count": null,
            "metadata": {},
            "outputs": [],
            "source": " g = sns.catplot(x=\"QTR_ID\", y=\"SALES\", col=\"DEALSIZE\",data=df_1, saturation=.5, kind=\"bar\", ci=None, aspect=.6)"
        },
        {
            "cell_type": "code",
            "execution_count": null,
            "metadata": {},
            "outputs": [],
            "source": " g = sns.catplot(x=\"QTR_ID\", y=\"SALES\", col=\"PRODUCTLINE\",data=df_1, saturation=.5, kind=\"bar\", ci=None, aspect=.6)"
        },
        {
            "cell_type": "markdown",
            "metadata": {},
            "source": "## *Third Ask*\n\n### Actions taken for data cleaning and feature engineering\n\nThe dataframe is fairly clean and organized and needs little to none in terms of feature engineering. The actions taken for data cleaning are changing categorical/ordinal variables to numerical represenations, namely, **STATUS** and **DEALSIZE**. We can scale the dataframe for the variables of interest once a model is determined, given that some models (like classifiers) don't need any scaling, in other words, at this stage, scaling won't be needed."
        },
        {
            "cell_type": "code",
            "execution_count": null,
            "metadata": {},
            "outputs": [],
            "source": "df['STATUS'].replace(to_replace=['Cancelled','Diputed','In','Process','On Hold','Resolved','Shipped'], \n                     value=[0,1,2,3,4,5,6],inplace=True)\ndf['DEALSIZE'].replace(to_replace=['Small','Medium','Large'], \n                     value=[0,1,2],inplace=True)"
        },
        {
            "cell_type": "code",
            "execution_count": null,
            "metadata": {},
            "outputs": [],
            "source": "df.head()"
        },
        {
            "cell_type": "markdown",
            "metadata": {},
            "source": "## *Fourth Ask*\n\n### Key Findings and Insights, which synthesizes the results of Exploratory Data Analysis in an insightful and actionable manner\n\n* Yearly sales and quantities ordered (by product line) fall almost in the same ranges, they also have approxiamtely the same medians except for classic cars where surpass the rest of the others. \n* We see a lot of outliers in the first graph for sales, this might be due to the sale of unique cars in their respective categories.\n* We see a drop in sales betweeen the year 2004 and 2005, this drop is not driven by an equivalent one in a/certain produc line/s, however, it is mainly driven by lack of data in Q3 & Q4 in 2005 \n* In terms of deal sizes, when looked at sales and the quantities ordered in each category, medium sales reins supreme over the other two (small and large)\n* The sales are normally distributed with a positive skew, the mean hovers around 3000 and the median around 2400.\n* When looking at territories, we see that Japan leads the trend in terms of the value of generated sales by a thin margin, this is also reflected in **Fig9** where the breakdown of sales by product line and territory is shown\n* In terms of average yearly sales, the year 2005 tops the other two, this might be due to an increase in prices, especially in the (classic cars and motorcycles) product lines.\n* It is noticable that Q4 is a good season for all product lines as we see big jump in that quarter for all categories"
        },
        {
            "cell_type": "markdown",
            "metadata": {},
            "source": "## *Fifth Ask*\n\n### Formulating at least 3 hypothesis about this data"
        },
        {
            "cell_type": "markdown",
            "metadata": {},
            "source": "* **First Hypothesis**: Average sales are equal to 2500 in the given 3 years\n* **Second Hypothesis**: Proportion of calssic cars' sales in 2003 to motorcycles is equal to that in 2004\n* **Third Hypothesis**: Average sales of motorcycles in 2004 is equal to that in 2005"
        },
        {
            "cell_type": "markdown",
            "metadata": {},
            "source": "## *Sixth Ask*\n\n### Conducting a formal significance test for one of the hypotheses and discuss the results"
        },
        {
            "cell_type": "markdown",
            "metadata": {},
            "source": "We will selec the first hypothesis for testing:\n\n**Null** or **H0**: Average sales = 3000\n\n**Alternative** or **Ha**: Average sales > 3000\n\nWe set the p-value at 5% or 0.05, so that any value which is larger than 0.05 will yield a failure to reject the null hypothesis, in other words, we have no evidence against the null hypothesis. If the estimated p-value is lower than the set threshold then we will reject the null hypothesis and conclude that average sales is larger than 3000."
        },
        {
            "cell_type": "markdown",
            "metadata": {},
            "source": "##### Setting up the variables to perform the hypothesis testing"
        },
        {
            "cell_type": "code",
            "execution_count": null,
            "metadata": {},
            "outputs": [],
            "source": "n = len(df)\nmean = df['SALES'].mean()\nsd = df['SALES'].std()\n(n,mean,sd)"
        },
        {
            "cell_type": "markdown",
            "metadata": {},
            "source": "##### Performing the hypothesis test"
        },
        {
            "cell_type": "code",
            "execution_count": null,
            "metadata": {},
            "outputs": [],
            "source": "sm.stats.ztest(df['SALES'], value = 3000, alternative = 'larger')"
        },
        {
            "cell_type": "markdown",
            "metadata": {},
            "source": "The p-value obtained from the output of the function above is (9.105181988023085e-58) << 0.05, this means that we have a strong evidence against the null hypothesis and that the average sales does not equal 3000 and is always higher than 3000."
        },
        {
            "cell_type": "markdown",
            "metadata": {},
            "source": "## *Seventh Ask*\n\n### Suggestions for next steps in analyzing this data"
        },
        {
            "cell_type": "markdown",
            "metadata": {},
            "source": "The use of the sales dataset in this notebook could be extended to ML algorithms. This can be achieved through, first, deciding what machine learning algorithm or technique will be used (depending on the question we are after e.g. classification, prediction, etc..), second, transforming the data if needed (e.g. scaling the data), third, choosing the features that relevant to the ML algo, finally, running the algorithm on the features set and validating the results. "
        },
        {
            "cell_type": "markdown",
            "metadata": {},
            "source": "## *Eighth Ask*\n\n### A paragraph that summarizes the quality of this data set and a request for additional data if needed"
        },
        {
            "cell_type": "markdown",
            "metadata": {},
            "source": "The dataset was obtained from Kaggle, the overall quality was pretty good, except for the data missing for Q3 and Q4 in the year of 2005, although this might be attributed to the fact that this dataset was maybe capturing infromation till Q2-2005, this was not mentioned anywhere. \n\nOther data points that could have been helpful are information about the service providers responsible for shipping, where it can be paired with the status of shipment column to study that part of the business. \n\nAlso, more detailed data about the customers (e.g. size of their companies, industries they work in, whether they work internationlly or locally or regionally, etc...) to pair that with their purchasing behavior and create more comprehensive profiles for those companies. This will ultimately help in more targeted sales efforts."
        },
        {
            "cell_type": "code",
            "execution_count": null,
            "metadata": {},
            "outputs": [],
            "source": ""
        }
    ],
    "metadata": {
        "kernelspec": {
            "display_name": "Python 3.6",
            "language": "python",
            "name": "python3"
        },
        "language_info": {
            "codemirror_mode": {
                "name": "ipython",
                "version": 3
            },
            "file_extension": ".py",
            "mimetype": "text/x-python",
            "name": "python",
            "nbconvert_exporter": "python",
            "pygments_lexer": "ipython3",
            "version": "3.6.9"
        }
    },
    "nbformat": 4,
    "nbformat_minor": 4
}